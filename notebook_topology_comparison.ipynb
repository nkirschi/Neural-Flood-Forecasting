{
 "cells": [
  {
   "cell_type": "code",
   "metadata": {
    "ExecuteTime": {
     "end_time": "2024-07-13T08:57:26.873710Z",
     "start_time": "2024-07-13T08:57:26.662397Z"
    }
   },
   "source": "import pandas as pd",
   "outputs": [],
   "execution_count": 1
  },
  {
   "cell_type": "code",
   "metadata": {
    "ExecuteTime": {
     "end_time": "2024-07-13T08:57:30.765372Z",
     "start_time": "2024-07-13T08:57:30.747397Z"
    }
   },
   "source": [
    "results = pd.read_csv(\"results/results_full.csv\", index_col=0)\n",
    "\n",
    "def extract_results(architecture, edge_orientation, adjacency_type):\n",
    "    return results.loc[[f\"{architecture}_{edge_orientation}_{adjacency_type}_{fold}\" for fold in range(3)]]\n",
    "\n",
    "def print_table(architecture):\n",
    "    display(pd.DataFrame(\n",
    "        [\n",
    "            sum([[\"{:.2f}%\".format(100 * extract_results(architecture, edge_orientation, adjacency_type).mean(1).mean())\n",
    "                    + \" ± {:.2f}%\".format(100 * extract_results(architecture, edge_orientation, adjacency_type).mean(1).std())]\n",
    "             for edge_orientation in [\"downstream\", \"upstream\", \"bidirectional\"]], [])\n",
    "           for adjacency_type in [\"isolated\", \"binary\", \"stream_length\", \"elevation_difference\", \"average_slope\", \"all\" if architecture == \"ResGAT\" else \"learned\"]\n",
    "        ], \n",
    "        columns = [\"downstream (NSE)\", \"upstream (NSE)\", \"bidirectional (NSE)\"],\n",
    "        index = [\"isolated\", \"binary\", \"stream_length\", \"elevation_difference\", \"average_slope\", \"all\" if architecture == \"ResGAT\" else \"learned\"]\n",
    "    ))"
   ],
   "outputs": [],
   "execution_count": 2
  },
  {
   "cell_type": "code",
   "metadata": {
    "ExecuteTime": {
     "end_time": "2024-07-13T08:57:35.983492Z",
     "start_time": "2024-07-13T08:57:35.957771Z"
    }
   },
   "source": [
    "print_table(\"ResGCN\")"
   ],
   "outputs": [
    {
     "data": {
      "text/plain": [
       "                     downstream (NSE)  upstream (NSE) bidirectional (NSE)\n",
       "isolated               85.07% ± 0.66%  85.07% ± 0.66%      85.07% ± 0.66%\n",
       "binary                 82.03% ± 1.97%  83.90% ± 1.26%      82.73% ± 2.54%\n",
       "stream_length          81.64% ± 1.45%  81.98% ± 3.06%      83.09% ± 2.37%\n",
       "elevation_difference   82.16% ± 1.85%  83.43% ± 0.16%      83.16% ± 1.76%\n",
       "average_slope          81.93% ± 1.18%  80.68% ± 1.99%      81.59% ± 2.21%\n",
       "learned                81.34% ± 1.61%  84.13% ± 0.81%      83.50% ± 1.59%"
      ],
      "text/html": [
       "<div>\n",
       "<style scoped>\n",
       "    .dataframe tbody tr th:only-of-type {\n",
       "        vertical-align: middle;\n",
       "    }\n",
       "\n",
       "    .dataframe tbody tr th {\n",
       "        vertical-align: top;\n",
       "    }\n",
       "\n",
       "    .dataframe thead th {\n",
       "        text-align: right;\n",
       "    }\n",
       "</style>\n",
       "<table border=\"1\" class=\"dataframe\">\n",
       "  <thead>\n",
       "    <tr style=\"text-align: right;\">\n",
       "      <th></th>\n",
       "      <th>downstream (NSE)</th>\n",
       "      <th>upstream (NSE)</th>\n",
       "      <th>bidirectional (NSE)</th>\n",
       "    </tr>\n",
       "  </thead>\n",
       "  <tbody>\n",
       "    <tr>\n",
       "      <th>isolated</th>\n",
       "      <td>85.07% ± 0.66%</td>\n",
       "      <td>85.07% ± 0.66%</td>\n",
       "      <td>85.07% ± 0.66%</td>\n",
       "    </tr>\n",
       "    <tr>\n",
       "      <th>binary</th>\n",
       "      <td>82.03% ± 1.97%</td>\n",
       "      <td>83.90% ± 1.26%</td>\n",
       "      <td>82.73% ± 2.54%</td>\n",
       "    </tr>\n",
       "    <tr>\n",
       "      <th>stream_length</th>\n",
       "      <td>81.64% ± 1.45%</td>\n",
       "      <td>81.98% ± 3.06%</td>\n",
       "      <td>83.09% ± 2.37%</td>\n",
       "    </tr>\n",
       "    <tr>\n",
       "      <th>elevation_difference</th>\n",
       "      <td>82.16% ± 1.85%</td>\n",
       "      <td>83.43% ± 0.16%</td>\n",
       "      <td>83.16% ± 1.76%</td>\n",
       "    </tr>\n",
       "    <tr>\n",
       "      <th>average_slope</th>\n",
       "      <td>81.93% ± 1.18%</td>\n",
       "      <td>80.68% ± 1.99%</td>\n",
       "      <td>81.59% ± 2.21%</td>\n",
       "    </tr>\n",
       "    <tr>\n",
       "      <th>learned</th>\n",
       "      <td>81.34% ± 1.61%</td>\n",
       "      <td>84.13% ± 0.81%</td>\n",
       "      <td>83.50% ± 1.59%</td>\n",
       "    </tr>\n",
       "  </tbody>\n",
       "</table>\n",
       "</div>"
      ]
     },
     "metadata": {},
     "output_type": "display_data"
    }
   ],
   "execution_count": 3
  },
  {
   "cell_type": "code",
   "metadata": {
    "ExecuteTime": {
     "end_time": "2024-07-13T08:57:43.793080Z",
     "start_time": "2024-07-13T08:57:43.770618Z"
    }
   },
   "source": [
    "print_table(\"GCNII\")"
   ],
   "outputs": [
    {
     "data": {
      "text/plain": [
       "                     downstream (NSE)  upstream (NSE) bidirectional (NSE)\n",
       "isolated               84.12% ± 1.88%  84.12% ± 1.88%      84.12% ± 1.88%\n",
       "binary                 84.09% ± 1.11%  85.16% ± 1.74%      84.81% ± 0.53%\n",
       "stream_length          84.29% ± 1.28%  85.09% ± 2.11%      83.90% ± 1.05%\n",
       "elevation_difference   84.44% ± 0.81%  84.87% ± 1.78%      84.06% ± 0.68%\n",
       "average_slope          83.93% ± 1.39%  84.47% ± 1.11%      84.68% ± 0.68%\n",
       "learned                84.91% ± 1.97%  85.00% ± 2.11%      85.56% ± 1.41%"
      ],
      "text/html": [
       "<div>\n",
       "<style scoped>\n",
       "    .dataframe tbody tr th:only-of-type {\n",
       "        vertical-align: middle;\n",
       "    }\n",
       "\n",
       "    .dataframe tbody tr th {\n",
       "        vertical-align: top;\n",
       "    }\n",
       "\n",
       "    .dataframe thead th {\n",
       "        text-align: right;\n",
       "    }\n",
       "</style>\n",
       "<table border=\"1\" class=\"dataframe\">\n",
       "  <thead>\n",
       "    <tr style=\"text-align: right;\">\n",
       "      <th></th>\n",
       "      <th>downstream (NSE)</th>\n",
       "      <th>upstream (NSE)</th>\n",
       "      <th>bidirectional (NSE)</th>\n",
       "    </tr>\n",
       "  </thead>\n",
       "  <tbody>\n",
       "    <tr>\n",
       "      <th>isolated</th>\n",
       "      <td>84.12% ± 1.88%</td>\n",
       "      <td>84.12% ± 1.88%</td>\n",
       "      <td>84.12% ± 1.88%</td>\n",
       "    </tr>\n",
       "    <tr>\n",
       "      <th>binary</th>\n",
       "      <td>84.09% ± 1.11%</td>\n",
       "      <td>85.16% ± 1.74%</td>\n",
       "      <td>84.81% ± 0.53%</td>\n",
       "    </tr>\n",
       "    <tr>\n",
       "      <th>stream_length</th>\n",
       "      <td>84.29% ± 1.28%</td>\n",
       "      <td>85.09% ± 2.11%</td>\n",
       "      <td>83.90% ± 1.05%</td>\n",
       "    </tr>\n",
       "    <tr>\n",
       "      <th>elevation_difference</th>\n",
       "      <td>84.44% ± 0.81%</td>\n",
       "      <td>84.87% ± 1.78%</td>\n",
       "      <td>84.06% ± 0.68%</td>\n",
       "    </tr>\n",
       "    <tr>\n",
       "      <th>average_slope</th>\n",
       "      <td>83.93% ± 1.39%</td>\n",
       "      <td>84.47% ± 1.11%</td>\n",
       "      <td>84.68% ± 0.68%</td>\n",
       "    </tr>\n",
       "    <tr>\n",
       "      <th>learned</th>\n",
       "      <td>84.91% ± 1.97%</td>\n",
       "      <td>85.00% ± 2.11%</td>\n",
       "      <td>85.56% ± 1.41%</td>\n",
       "    </tr>\n",
       "  </tbody>\n",
       "</table>\n",
       "</div>"
      ]
     },
     "metadata": {},
     "output_type": "display_data"
    }
   ],
   "execution_count": 4
  },
  {
   "cell_type": "code",
   "metadata": {
    "ExecuteTime": {
     "end_time": "2024-07-13T08:57:50.389030Z",
     "start_time": "2024-07-13T08:57:50.356404Z"
    }
   },
   "source": "print_table(\"ResGAT\")",
   "outputs": [
    {
     "data": {
      "text/plain": [
       "                     downstream (NSE)  upstream (NSE) bidirectional (NSE)\n",
       "isolated               83.10% ± 0.88%  83.10% ± 0.88%      83.10% ± 0.88%\n",
       "binary                 80.68% ± 4.78%  82.59% ± 2.01%      82.77% ± 0.47%\n",
       "stream_length          80.21% ± 4.85%  83.28% ± 1.72%      83.56% ± 1.57%\n",
       "elevation_difference   80.58% ± 5.00%  82.88% ± 1.50%      82.87% ± 1.44%\n",
       "average_slope          81.10% ± 4.67%  82.81% ± 0.90%      81.69% ± 0.39%\n",
       "all                    83.78% ± 1.71%  83.33% ± 1.76%      82.73% ± 1.30%"
      ],
      "text/html": [
       "<div>\n",
       "<style scoped>\n",
       "    .dataframe tbody tr th:only-of-type {\n",
       "        vertical-align: middle;\n",
       "    }\n",
       "\n",
       "    .dataframe tbody tr th {\n",
       "        vertical-align: top;\n",
       "    }\n",
       "\n",
       "    .dataframe thead th {\n",
       "        text-align: right;\n",
       "    }\n",
       "</style>\n",
       "<table border=\"1\" class=\"dataframe\">\n",
       "  <thead>\n",
       "    <tr style=\"text-align: right;\">\n",
       "      <th></th>\n",
       "      <th>downstream (NSE)</th>\n",
       "      <th>upstream (NSE)</th>\n",
       "      <th>bidirectional (NSE)</th>\n",
       "    </tr>\n",
       "  </thead>\n",
       "  <tbody>\n",
       "    <tr>\n",
       "      <th>isolated</th>\n",
       "      <td>83.10% ± 0.88%</td>\n",
       "      <td>83.10% ± 0.88%</td>\n",
       "      <td>83.10% ± 0.88%</td>\n",
       "    </tr>\n",
       "    <tr>\n",
       "      <th>binary</th>\n",
       "      <td>80.68% ± 4.78%</td>\n",
       "      <td>82.59% ± 2.01%</td>\n",
       "      <td>82.77% ± 0.47%</td>\n",
       "    </tr>\n",
       "    <tr>\n",
       "      <th>stream_length</th>\n",
       "      <td>80.21% ± 4.85%</td>\n",
       "      <td>83.28% ± 1.72%</td>\n",
       "      <td>83.56% ± 1.57%</td>\n",
       "    </tr>\n",
       "    <tr>\n",
       "      <th>elevation_difference</th>\n",
       "      <td>80.58% ± 5.00%</td>\n",
       "      <td>82.88% ± 1.50%</td>\n",
       "      <td>82.87% ± 1.44%</td>\n",
       "    </tr>\n",
       "    <tr>\n",
       "      <th>average_slope</th>\n",
       "      <td>81.10% ± 4.67%</td>\n",
       "      <td>82.81% ± 0.90%</td>\n",
       "      <td>81.69% ± 0.39%</td>\n",
       "    </tr>\n",
       "    <tr>\n",
       "      <th>all</th>\n",
       "      <td>83.78% ± 1.71%</td>\n",
       "      <td>83.33% ± 1.76%</td>\n",
       "      <td>82.73% ± 1.30%</td>\n",
       "    </tr>\n",
       "  </tbody>\n",
       "</table>\n",
       "</div>"
      ]
     },
     "metadata": {},
     "output_type": "display_data"
    }
   ],
   "execution_count": 5
  }
 ],
 "metadata": {
  "kernelspec": {
   "display_name": "Python 3 (ipykernel)",
   "language": "python",
   "name": "python3"
  },
  "language_info": {
   "codemirror_mode": {
    "name": "ipython",
    "version": 3
   },
   "file_extension": ".py",
   "mimetype": "text/x-python",
   "name": "python",
   "nbconvert_exporter": "python",
   "pygments_lexer": "ipython3",
   "version": "3.11.4"
  }
 },
 "nbformat": 4,
 "nbformat_minor": 1
}
